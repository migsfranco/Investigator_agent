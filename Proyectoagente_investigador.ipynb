{
  "nbformat": 4,
  "nbformat_minor": 0,
  "metadata": {
    "colab": {
      "provenance": [],
      "include_colab_link": true
    },
    "kernelspec": {
      "name": "python3",
      "display_name": "Python 3"
    },
    "language_info": {
      "name": "python"
    }
  },
  "cells": [
    {
      "cell_type": "markdown",
      "metadata": {
        "id": "view-in-github",
        "colab_type": "text"
      },
      "source": [
        "<a href=\"https://colab.research.google.com/github/migsfranco/Investigator_agent/blob/main/Proyectoagente_investigador.ipynb\" target=\"_parent\"><img src=\"https://colab.research.google.com/assets/colab-badge.svg\" alt=\"Open In Colab\"/></a>"
      ]
    },
    {
      "cell_type": "markdown",
      "source": [
        "# **Proyecto Final de Módulo 2 - 26 oct 2025**\n",
        "# **Desarrollado por: Ing. Miguel Andrés Franco Bayas, MSc.**\n",
        "\n",
        "**Diseñar y construir un agente especializado que utilice multiples herramientas personalizadas (y opcionalmente herramientas de terceros),capaz de ejecutar tareas de forma autónoma y eficiente. El agente debe ser funcional desde un entorno pragmático.**\n"
      ],
      "metadata": {
        "id": "ZYiUVT6AXoSg"
      }
    },
    {
      "cell_type": "markdown",
      "source": [
        "Se propone utilizar un ***agente investigador de papers científicos*** que utilizará varias herramientas personalizadas para ejecutar tareas de forma autónoma y eficiente"
      ],
      "metadata": {
        "id": "Ut0lGJRzTCz9"
      }
    },
    {
      "cell_type": "code",
      "execution_count": null,
      "metadata": {
        "id": "J-o_8m9ibHKk",
        "collapsed": true
      },
      "outputs": [],
      "source": [
        "!pip install -qU langchain langchain_classic langchain_openai langchain-core requests langchain-community arxiv langgraph langchain-tavily ddgs google-search-results wikibase-rest-api-client mediawikiapi xmltodict"
      ]
    },
    {
      "cell_type": "code",
      "source": [
        "#Import the API Key\n",
        "import os\n",
        "with open(\"/content/Langchain_arqdesign.txt\") as archivo:\n",
        "  apikey = archivo.read()\n",
        "os.environ[\"OPENAI_API_KEY\"] = apikey\n",
        "\n",
        "with open(\"/content/tavily_apikeymfranco.txt\") as archivo:\n",
        "  apikey = archivo.read()\n",
        "os.environ[\"TAVILY_API_KEY\"] = apikey\n",
        "\n",
        "with open(\"/content/SerpApikey.txt\") as archivo:\n",
        "  apikey = archivo.read()\n",
        "os.environ[\"SERP_API_KEY\"] = apikey\n",
        "\n"
      ],
      "metadata": {
        "id": "Tja4KDZfeCEe"
      },
      "execution_count": null,
      "outputs": []
    },
    {
      "cell_type": "code",
      "source": [
        "from langchain_openai import ChatOpenAI\n",
        "from langchain_core.messages import HumanMessage\n",
        "from langgraph.checkpoint.memory import MemorySaver\n",
        "from langgraph.prebuilt import create_react_agent\n",
        "from langchain.tools import tool"
      ],
      "metadata": {
        "id": "9Rel5pwweD4t"
      },
      "execution_count": null,
      "outputs": []
    },
    {
      "cell_type": "markdown",
      "source": [
        "**Herramientas personalizadas para el agente académico investigador**\n",
        "\n",
        "---\n",
        "\n",
        "\n",
        "\n",
        "---\n",
        "\n"
      ],
      "metadata": {
        "id": "_143cuUVeJRM"
      }
    },
    {
      "cell_type": "code",
      "source": [
        "#1st tool - Academic Google Scholar\n",
        "import os\n",
        "from langchain_community.tools.google_scholar import GoogleScholarQueryRun\n",
        "from langchain_community.utilities.google_scholar import GoogleScholarAPIWrapper\n"
      ],
      "metadata": {
        "id": "-RVEtv3ZY3Ss"
      },
      "execution_count": null,
      "outputs": []
    },
    {
      "cell_type": "code",
      "source": [
        "tool = GoogleScholarQueryRun(api_wrapper=GoogleScholarAPIWrapper())\n",
        "tool.run(\"5 articles about Machine Learning\")"
      ],
      "metadata": {
        "colab": {
          "base_uri": "https://localhost:8080/",
          "height": 313
        },
        "id": "fuGNMmeLcn4E",
        "outputId": "8686edcf-8ba0-4d46-84b8-71fd63392907"
      },
      "execution_count": null,
      "outputs": [
        {
          "output_type": "execute_result",
          "data": {
            "text/plain": [
              "\"Title: How to read articles that use machine learning: users' guides to the medical literature\\nAuthors: Y Liu,PHC Chen,J Krause,L Peng\\nSummary: Y Liu, PHC Chen, J Krause, L Peng - Jama, 2019 - jamanetwork.com\\nTotal-Citations: 570\\n\\nTitle: Characteristics of a highly cited article: A machine learning perspective\\nAuthors: M Elgendi\\nSummary: M Elgendi - IEEE Access, 2019 - ieeexplore.ieee.org\\nTotal-Citations: 54\\n\\nTitle: Machine learning studies on major brain diseases: 5-year trends of 2014–2018\\nAuthors: K Sakai,K Yamada\\nSummary: K Sakai, K Yamada - Japanese journal of radiology, 2019 - Springer\\nTotal-Citations: 153\\n\\nTitle: Applications of machine learning approaches in emergency medicine; a review article\\nAuthors: N Shafaf,H Malek\\nSummary: N Shafaf, H Malek - Archives of academic emergency …, 2019 - pmc.ncbi.nlm.nih.gov\\nTotal-Citations: 156\\n\\nTitle: Use of machine learning to analyse routinely collected intensive care unit data: a systematic review\\nAuthors: D Shillan,JAC Sterne,A Champneys,B Gibbison\\nSummary: D Shillan, JAC Sterne, A Champneys, B Gibbison - Critical care, 2019 - Springer\\nTotal-Citations: 254\\n\\nTitle: Articles with impact: insights into 10 years of research with machine learning\\nAuthors: S van der Zwaard,AW de Leeuw\\nSummary: S van der Zwaard, AW de Leeuw… - Journal of Applied …, 2020 - journals.physiology.org\\nTotal-Citations: 14\\n\\nTitle: Using content-based and bibliometric features for machine learning models to predict citation counts in the biomedical literature\\nAuthors: L Fu,C Aliferis\\nSummary: L Fu, C Aliferis - Scientometrics, 2010 - akjournals.com\\nTotal-Citations: 141\\n\\nTitle: Machine learning in medicine\\nAuthors: RC Deo\\nSummary: RC Deo - Circulation, 2015 - ahajournals.org\\nTotal-Citations: 3800\\n\\nTitle: Machine learning in medicine\\nAuthors: B Van Calster,L Wynants\\nSummary: B Van Calster, L Wynants - New England Journal of …, 2019 - cris.maastrichtuniversity.nl\\nTotal-Citations: 94\\n\\nTitle: A systematic review on supervised and unsupervised machine learning algorithms for data science\\nAuthors: M Alloghani,D Al-Jumeily,J Mustafina\\nSummary: M Alloghani, D Al-Jumeily, J Mustafina… - … learning for data science, 2020 - Springer\\nTotal-Citations: 1024\""
            ],
            "application/vnd.google.colaboratory.intrinsic+json": {
              "type": "string"
            }
          },
          "metadata": {},
          "execution_count": 5
        }
      ]
    },
    {
      "cell_type": "code",
      "source": [
        "#2nd tool - TavilySearch\n",
        "from langchain_tavily import TavilySearch\n",
        "\n",
        "tool = TavilySearch(\n",
        "    max_results=5,\n",
        "    topic=\"general\",\n",
        "    # include_answer=False,\n",
        "    # include_raw_content=False,\n",
        "    # include_images=False,\n",
        "    # include_image_descriptions=False,\n",
        "    # search_depth=\"basic\",\n",
        "    # time_range=\"day\",\n",
        "    # include_domains=None,\n",
        "    # exclude_domains=None\n",
        ")"
      ],
      "metadata": {
        "id": "RGOWvREolK5Q"
      },
      "execution_count": null,
      "outputs": []
    },
    {
      "cell_type": "code",
      "source": [
        "tool.invoke({\"query\": \"What is Attention is All you Need\"})"
      ],
      "metadata": {
        "colab": {
          "base_uri": "https://localhost:8080/"
        },
        "id": "1bJwCIqrmVTh",
        "outputId": "ccee72f4-7bad-4222-9565-f30f1ce6c0d6"
      },
      "execution_count": null,
      "outputs": [
        {
          "output_type": "execute_result",
          "data": {
            "text/plain": [
              "{'query': 'What is Attention is All you Need',\n",
              " 'follow_up_questions': None,\n",
              " 'answer': None,\n",
              " 'images': [],\n",
              " 'results': [{'url': 'https://en.wikipedia.org/wiki/Attention_Is_All_You_Need',\n",
              "   'title': 'Attention Is All You Need - Wikipedia',\n",
              "   'content': 'The paper introduced a new deep learning architecture known as the transformer \"Transformer (machine learning model)\"), based on the attention mechanism proposed in 2014 by Bahdanau et al. Seq2seq models with attention (including self-attention) still suffered from the same issue with recurrent networks, which is that they are hard to parallelize, which prevented them from being accelerated on GPUs. In 2016, *decomposable attention* applied a self-attention mechanism to feedforward networks, which are easy to parallelize, and achieved SOTA result in textual entailment with an order of magnitude fewer parameters than LSTMs. One of its authors, Jakob Uszkoreit, suspected that attention *without* recurrence would be sufficient for language translation, thus the title \"attention is *all* you need\". In 2017, the original (100M-sized) encoder-decoder transformer model was proposed in the \"Attention is all you need\" paper.',\n",
              "   'score': 0.8124067,\n",
              "   'raw_content': None},\n",
              "  {'url': 'https://www.reddit.com/r/learnmachinelearning/comments/17ywtkd/the_background_needed_to_understand_attention_is/',\n",
              "   'title': 'The background needed to understand \"Attention is All You ... - Reddit',\n",
              "   'content': 'In my opinion the Attention is all you need paper is one of the most important papers for understanding how LLM are built and work.',\n",
              "   'score': 0.7463059,\n",
              "   'raw_content': None},\n",
              "  {'url': 'https://alok-shankar.medium.com/understanding-googles-attention-is-all-you-need-paper-and-its-groundbreaking-impact-c5237043540a',\n",
              "   'title': \"Understanding Google's “Attention Is All You Need” Paper and Its ...\",\n",
              "   'content': 'The Transformer model is a type of machine learning model that has significantly influenced various applications in natural language processing (NLP), such as machine translation, text summarization, and much more. Scaled dot-product attention and multi-head attention are both key components of the Transformer architecture, which is a neural network architecture that has been shown to be very effective for a variety of natural language processing (NLP) tasks, such as machine translation, text summarization, and question answering. Scaled dot-product attention and multi-head attention are powerful tools that can be used to improve the performance of NLP models on a variety of tasks. The self-attention function would allow the model to learn long-range dependencies in the input text.',\n",
              "   'score': 0.70702106,\n",
              "   'raw_content': None},\n",
              "  {'url': 'https://medium.com/illumination-curators-on-substack/understanding-attention-is-all-you-need-750713a1631b',\n",
              "   'title': 'Understanding “Attention Is All You Need” | by Simplifying Future Tech',\n",
              "   'content': 'Open in app Member-only story # Understanding “Attention Is All You Need” The 2017 paper *“Attention Is All You Need”* introduced the Transformer model, which has revolutionized Natural Language Processing (NLP) and machine learning as a whole. In this blog, I will break down the key ideas from the paper into digestible parts, offering a simplified summary while retaining a technical touch. Before this paper, most NLP models were based on Recurrent Neural Networks (RNNs) or Long Short-Term Memory (LSTM) networks. Or, continue in mobile web ·23K following ## Responses (1) 2.6K 1.1K 24K ### The Transformer model, introduced in the 2017 paper “Attention is All You Need”, revolutionized deep learning by replacing recurrence with… 6.2K iswarya writes 10.7K',\n",
              "   'score': 0.6917478,\n",
              "   'raw_content': None},\n",
              "  {'url': 'https://www.youtube.com/watch?v=bCz4OMemCcA',\n",
              "   'title': 'Attention is all you need (Transformer) - YouTube',\n",
              "   'content': 'Attention is all you need (Transformer) - Model explanation (including math), Inference and Training\\nUmar Jamil\\n74200 subscribers\\n17021 likes\\n604740 views\\n28 May 2023\\nA complete explanation of all the layers of a Transformer Model: Multi-Head Self-Attention, Positional Encoding, including all the matrix multiplications and a complete description of the training and inference process.\\n\\nPaper: Attention is all you need - https://arxiv.org/abs/1706.03762\\n\\nSlides PDF: https://github.com/hkproj/transformer-from-scratch-notes\\n\\nChapters\\n00:00 - Intro\\n01:10 - RNN and their problems\\n08:04 - Transformer Model\\n09:02 - Maths background and notations\\n12:20 - Encoder (overview)\\n12:31 - Input Embeddings\\n15:04 - Positional Encoding\\n20:08 - Single Head Self-Attention\\n28:30 - Multi-Head Attention\\n35:39 - Query, Key, Value\\n37:55 - Layer Normalization\\n40:13 - Decoder (overview)\\n42:24 - Masked Multi-Head Attention\\n44:59 - Training\\n52:09 - Inference\\n866 comments\\n',\n",
              "   'score': 0.60133666,\n",
              "   'raw_content': None}],\n",
              " 'response_time': 0.0,\n",
              " 'request_id': 'd74cbd30-1eec-4011-b2a2-f38c648ac30f'}"
            ]
          },
          "metadata": {},
          "execution_count": 7
        }
      ]
    },
    {
      "cell_type": "code",
      "source": [
        "#3rd tool - PubMed\n",
        "from langchain_community.tools.pubmed.tool import PubmedQueryRun\n",
        "tool = PubmedQueryRun()"
      ],
      "metadata": {
        "id": "v1z8hrM4gfpy"
      },
      "execution_count": null,
      "outputs": []
    },
    {
      "cell_type": "code",
      "source": [
        "tool.invoke(\"What causes the AI to be immersed in healthcare?\")"
      ],
      "metadata": {
        "colab": {
          "base_uri": "https://localhost:8080/",
          "height": 157
        },
        "id": "zbzdpd0Xg7z7",
        "outputId": "aeedf4c6-4bf2-4856-9061-e9a4bf38724f"
      },
      "execution_count": null,
      "outputs": [
        {
          "output_type": "execute_result",
          "data": {
            "text/plain": [
              "'Published: 2025-08-06\\nTitle: Artificial intelligence for precision viral surveillance of emerging infectious disease (EID): Data-driven digital twin metaverse-envisioned study.\\nCopyright Information: Copyright © 2025 The Authors. Published by Elsevier Ltd.. All rights reserved.\\nSummary::\\nBACKGROUND: Precision containment strategies incorporating artificial intelligence (AI)-driven dynamic viral shedding models are pivotal for the effective control of emerging infectious diseases (EIDs). Among the foundational applications within the Metaverse, digital twins-which integrate physical and virtual environments via augmented reality (AR) and mixed reality (MR)-offer a promising solution. Leveraging IoT-like laboratory-based viral shedding data together with demographic and clinical features, this study aims to develop a data-driven digital twin model for precision viral surveillance to monitor EIDs and to provide an immersive framework for evaluating the effectiveness of contact tracing, isolation, and quarantine protocols within the Metaverse.\\nMETHODS: We proposed a digital twin thread architecture, comprising a temporal data pipeline designed to support multiple twin functionalities. The process began with the development of the physical twin, which incorporated dynamic cycle threshold (Ct) data from serial RT-PCR tests-serving as IoT-like laboratory inputs along with the associated demographic and clinical data. The underlying parameters of infectious disease dynamics were learned through Markov-based statistical machine learning, applied to these time-series data. A virtual avatar representing these digital threads-a virtual thread cohort-was rendered in virtual reality (VR). Analytic twins, enhanced via AR, overlaid virtual data onto the physical twin to bridge observed and inferred states. Subsequently, decision twins, implemented through MR, were utilized to assess the effectiveness of immersive, precision-guided interventions such as contact tracing, isolation, a'"
            ],
            "application/vnd.google.colaboratory.intrinsic+json": {
              "type": "string"
            }
          },
          "metadata": {},
          "execution_count": 9
        }
      ]
    },
    {
      "cell_type": "code",
      "source": [
        "#4th tool - Arxiv Wrapper\n",
        "from langchain_community.utilities.arxiv import ArxivAPIWrapper\n",
        "arxiv = ArxivAPIWrapper(\n",
        "    top_k_results = 3,\n",
        "    ARXIV_MAX_QUERY_LENGTH = 300,\n",
        "    load_max_docs = 3,\n",
        "    load_all_available_meta = False,\n",
        "    doc_content_chars_max = 40000\n",
        ")"
      ],
      "metadata": {
        "id": "IOlS78QTgonV"
      },
      "execution_count": null,
      "outputs": []
    },
    {
      "cell_type": "code",
      "source": [
        "arxiv.run(\"2510.20572\")"
      ],
      "metadata": {
        "colab": {
          "base_uri": "https://localhost:8080/",
          "height": 157
        },
        "id": "7aqXVeiig6oY",
        "outputId": "32abdd63-7798-4c9f-c58b-462ba0f63e92"
      },
      "execution_count": null,
      "outputs": [
        {
          "output_type": "execute_result",
          "data": {
            "text/plain": [
              "'Published: 2025-10-23\\nTitle: Stacked Intelligent Metasurfaces for 6G Wireless Networks: Principles, Applications, and Research Directions\\nAuthors: Enyu Shi, Jiayi Zhang, Zhilong Liu, Ziheng Liu, Arumugam Nallanathan, Merouane Debbah, Shi Jin, Bo Ai\\nSummary: The sixth-generation (6G) wireless networks are expected to deliver\\nubiquitous connectivity, resilient coverage, and intelligence-driven services\\nin highly dynamic environments. To achieve these goals, distributed wireless\\narchitectures such as cell-free massive multiple-input multiple-output (MIMO)\\nhave attracted significant attention due to their scalability and fairness.\\nRecently, stacked intelligent metasurfaces (SIMs) have emerged as a promising\\nevolution of reconfigurable intelligent surfaces, offering multi-layer\\nelectromagnetic domain processing with enhanced controllability and spatial\\ndegrees of freedom. By integrating SIMs into distributed wireless networks,\\nadvanced wave-domain operations can be realized, enabling efficient\\ninterference management, improved energy and spectral efficiency, and robust\\nphysical-layer security. This article provides a comprehensive overview of\\nSIM-aided distributed wireless networks, including their application scenarios,\\nclassification, and system architectures. Key signal processing challenges,\\nsuch as hierarchical frameworks, user association, and joint precoding, are\\ndiscussed, followed by case studies demonstrating significant performance\\ngains. Finally, future research directions in hardware design, energy\\nconsumption modeling, algorithm development, and artificial intelligence\\nintegration are highlighted, aiming to pave the way for scalable and\\nintelligent 6G distributed wireless networks.'"
            ],
            "application/vnd.google.colaboratory.intrinsic+json": {
              "type": "string"
            }
          },
          "metadata": {},
          "execution_count": 11
        }
      ]
    },
    {
      "cell_type": "code",
      "source": [
        "#5th tool - DuckDuck Go Search (Free)\n",
        "from langchain_community.tools import DuckDuckGoSearchRun\n",
        "\n",
        "search = DuckDuckGoSearchRun()\n",
        "\n",
        "search.invoke(\"WHich is the difference between technological papers with medical papers?\")"
      ],
      "metadata": {
        "id": "aPGuQ7EVC_fe",
        "colab": {
          "base_uri": "https://localhost:8080/",
          "height": 157
        },
        "outputId": "496ecfad-3593-40ff-f72f-463ec0c64bc2"
      },
      "execution_count": null,
      "outputs": [
        {
          "output_type": "execute_result",
          "data": {
            "text/plain": [
              "'Although the word paper is etymologically derived from papyrus, the two are separate technological developments that use different materials and production methods. September 11, 2025 - The Grey Literature International Steering Committee (GLISC) established in 2006 published guidelines for the production of scientific and technical reports. These recommendations are adapted from the Uniform Requirements for Manuscripts Submitted to Biomedical Journals, produced by the International Committee of Medical Journal Editors (ICMJE) – better known as “Vancouver Style”. Advanced technology enhances both paper and medical technologies (e.g., electronic documentation, telehealth). Final Answer. Concept Map: Technology in Everyday Life. Paper Technology : Printing technology , Digital documentation. Discussion of differences and possible links between bifacially and unifacially shaped tools has quite a long tradition. Certain techno-complexes are distinguished due to the presence or absence of bifacial technology (e.g. Keilmesser group, MP/UP transition leafpoint industries). Abstract This paper examines empirically the relationship between the internal technological profile and the diversification through strategic alliances of the largest 219 industrial firms world-wide. It explores three related issues.'"
            ],
            "application/vnd.google.colaboratory.intrinsic+json": {
              "type": "string"
            }
          },
          "metadata": {},
          "execution_count": 12
        }
      ]
    },
    {
      "cell_type": "code",
      "source": [
        "# Define the toolkit with correctly instantiated tools\n",
        "arxiv_wrapper = ArxivAPIWrapper()\n",
        "toolkit = [\n",
        "    GoogleScholarQueryRun(api_wrapper=GoogleScholarAPIWrapper()),\n",
        "    TavilySearch(),\n",
        "    PubmedQueryRun(),\n",
        "    ArxivQueryRun(api_wrapper=arxiv_wrapper),\n",
        "    DuckDuckGoSearchRun()\n",
        "]"
      ],
      "metadata": {
        "id": "1EDFQZ8piTES"
      },
      "execution_count": 34,
      "outputs": []
    },
    {
      "cell_type": "code",
      "source": [
        "from langgraph.prebuilt import create_react_agent\n",
        "from langchain_openai import ChatOpenAI\n",
        "from langchain_core.prompts import ChatPromptTemplate\n",
        "from langgraph.checkpoint.memory import MemorySaver\n",
        "\n",
        "llm = ChatOpenAI(temperature=0)\n",
        "memory = MemorySaver()\n",
        "\n",
        "prompt = ChatPromptTemplate.from_messages([\n",
        "    (\"system\",\n",
        "        \"\"\"Eres una agente investigador de papers científicos que puede usar sus herramientas dependiendo de la acción que te pidan y se alinie con la\n",
        "           que ha sido programada.Si no cuentas con una herramienta para responder indica que no puedes ayudar de forma gentil\"\"\"\n",
        "    ),\n",
        "    (\"human\", \"{messages}\"),\n",
        "])\n",
        "\n",
        "agent = create_react_agent(llm, toolkit, checkpointer=memory, prompt=prompt)\n",
        "#agent_executor = AgentExecutor(agent=agent, tools=tools, verbose=True)"
      ],
      "metadata": {
        "id": "PmF9YKMilxYe",
        "colab": {
          "base_uri": "https://localhost:8080/"
        },
        "outputId": "77503a70-db20-454e-92dd-85e72e7db6bd"
      },
      "execution_count": 33,
      "outputs": [
        {
          "output_type": "stream",
          "name": "stderr",
          "text": [
            "/tmp/ipython-input-2493862609.py:17: LangGraphDeprecatedSinceV10: create_react_agent has been moved to `langchain.agents`. Please update your import to `from langchain.agents import create_agent`. Deprecated in LangGraph V1.0 to be removed in V2.0.\n",
            "  agent = create_react_agent(llm, toolkit, checkpointer=memory, prompt=prompt)\n"
          ]
        }
      ]
    },
    {
      "cell_type": "code",
      "source": [
        "#Use the agent\n",
        "config = {\"configurable\": {\"thread_id\": \"abc123\"}}\n",
        "for step in agent.stream(\n",
        "    {\"messages\": [HumanMessage(content=\"Indicate 10 articles about AI in healthcare\")]},\n",
        "    config,\n",
        "    stream_mode=\"values\",\n",
        "):\n",
        "    step[\"messages\"][-1].pretty_print()"
      ],
      "metadata": {
        "id": "IdN2FVnGijOp",
        "colab": {
          "base_uri": "https://localhost:8080/"
        },
        "outputId": "3fcf43c5-b5b3-4003-a767-66f8da8afcac"
      },
      "execution_count": 32,
      "outputs": [
        {
          "output_type": "stream",
          "name": "stdout",
          "text": [
            "================================\u001b[1m Human Message \u001b[0m=================================\n",
            "\n",
            "Indicate 10 articles about AI in healthcare\n",
            "==================================\u001b[1m Ai Message \u001b[0m==================================\n",
            "Tool Calls:\n",
            "  google_scholar (call_yJ3l1oxO5XKSSkUK8tElc2Km)\n",
            " Call ID: call_yJ3l1oxO5XKSSkUK8tElc2Km\n",
            "  Args:\n",
            "    query: AI in healthcare\n",
            "=================================\u001b[1m Tool Message \u001b[0m=================================\n",
            "Name: google_scholar\n",
            "\n",
            "Title: The “inconvenient truth” about AI in healthcare\n",
            "Authors: T Panch,H Mattie,LA Celi\n",
            "Summary: T Panch, H Mattie, LA Celi - NPJ digital medicine, 2019 - nature.com\n",
            "Total-Citations: 533\n",
            "\n",
            "Title: AI in Healthcare\n",
            "Authors: E Koski,J Murphy\n",
            "Summary: E Koski, J Murphy - Nurses and midwives in the digital age, 2021 - ebooks.iospress.nl\n",
            "Total-Citations: 108\n",
            "\n",
            "Title: AI in healthcare: A narrative review\n",
            "Authors: A Väänänen,K Haataja\n",
            "Summary: A Väänänen, K Haataja… - …, 2021 - f1000research.com\n",
            "Total-Citations: 107\n",
            "\n",
            "Title: Applications of Artificial Intelligence (AI) in healthcare: A review\n",
            "Authors: MY Shaheen\n",
            "Summary: MY Shaheen - ScienceOpen Preprints, 2021 - scienceopen.com\n",
            "Total-Citations: 386\n",
            "\n",
            "Title: Machine learning and AI for healthcare\n",
            "Authors: A Panesar\n",
            "Summary: A Panesar - 2019 - Springer\n",
            "Total-Citations: 411\n",
            "\n",
            "Title: AI-driven healthcare: Fairness in AI healthcare: A survey.\n",
            "Authors: SV Chinta,Z Wang,A Palikhe,X Zhang\n",
            "Summary: SV Chinta, Z Wang, A Palikhe, X Zhang… - PLOS digital …, 2025 - journals.plos.org\n",
            "Total-Citations: 25\n",
            "\n",
            "Title: AI in healthcare: revolutionizing diagnosis and therapy\n",
            "Authors: S Zeb,FNU Nizamullah,N Abbasi\n",
            "Summary: S Zeb, FNU Nizamullah, N Abbasi… - International Journal of …, 2024 - researchgate.net\n",
            "Total-Citations: 100\n",
            "\n",
            "Title: Explainable AI for healthcare 5.0: opportunities and challenges\n",
            "Authors: D Saraswat,P Bhattacharya,A Verma,VK Prasad\n",
            "Summary: D Saraswat, P Bhattacharya, A Verma, VK Prasad… - IEEe …, 2022 - ieeexplore.ieee.org\n",
            "Total-Citations: 493\n",
            "\n",
            "Title: Artificial intelligence in healthcare: past, present and future\n",
            "Authors: F Jiang,Y Jiang,H Zhi,Y Dong,H Li,S Ma\n",
            "Summary: F Jiang, Y Jiang, H Zhi, Y Dong, H Li, S Ma… - Stroke and vascular …, 2017 - svn.bmj.com\n",
            "Total-Citations: 5458\n",
            "\n",
            "Title: Implementing AI in healthcare\n",
            "Authors: E Drysdale,E Dolatabadi,C Chivers,V Liu\n",
            "Summary: E Drysdale, E Dolatabadi, C Chivers, V Liu… - … -SickKids Health AI …, 2019 - erikdrysdale.com\n",
            "Total-Citations: 22\n",
            "==================================\u001b[1m Ai Message \u001b[0m==================================\n",
            "Tool Calls:\n",
            "  google_scholar (call_jvN8XBKPbzKuzmFdu5mXr0QC)\n",
            " Call ID: call_jvN8XBKPbzKuzmFdu5mXr0QC\n",
            "  Args:\n",
            "    query: AI in healthcare\n",
            "=================================\u001b[1m Tool Message \u001b[0m=================================\n",
            "Name: google_scholar\n",
            "\n",
            "Title: The “inconvenient truth” about AI in healthcare\n",
            "Authors: T Panch,H Mattie,LA Celi\n",
            "Summary: T Panch, H Mattie, LA Celi - NPJ digital medicine, 2019 - nature.com\n",
            "Total-Citations: 533\n",
            "\n",
            "Title: AI in Healthcare\n",
            "Authors: E Koski,J Murphy\n",
            "Summary: E Koski, J Murphy - Nurses and midwives in the digital age, 2021 - ebooks.iospress.nl\n",
            "Total-Citations: 108\n",
            "\n",
            "Title: AI in healthcare: A narrative review\n",
            "Authors: A Väänänen,K Haataja\n",
            "Summary: A Väänänen, K Haataja… - …, 2021 - f1000research.com\n",
            "Total-Citations: 107\n",
            "\n",
            "Title: Applications of Artificial Intelligence (AI) in healthcare: A review\n",
            "Authors: MY Shaheen\n",
            "Summary: MY Shaheen - ScienceOpen Preprints, 2021 - scienceopen.com\n",
            "Total-Citations: 386\n",
            "\n",
            "Title: Machine learning and AI for healthcare\n",
            "Authors: A Panesar\n",
            "Summary: A Panesar - 2019 - Springer\n",
            "Total-Citations: 411\n",
            "\n",
            "Title: AI-driven healthcare: Fairness in AI healthcare: A survey.\n",
            "Authors: SV Chinta,Z Wang,A Palikhe,X Zhang\n",
            "Summary: SV Chinta, Z Wang, A Palikhe, X Zhang… - PLOS digital …, 2025 - journals.plos.org\n",
            "Total-Citations: 25\n",
            "\n",
            "Title: AI in healthcare: revolutionizing diagnosis and therapy\n",
            "Authors: S Zeb,FNU Nizamullah,N Abbasi\n",
            "Summary: S Zeb, FNU Nizamullah, N Abbasi… - International Journal of …, 2024 - researchgate.net\n",
            "Total-Citations: 100\n",
            "\n",
            "Title: Explainable AI for healthcare 5.0: opportunities and challenges\n",
            "Authors: D Saraswat,P Bhattacharya,A Verma,VK Prasad\n",
            "Summary: D Saraswat, P Bhattacharya, A Verma, VK Prasad… - IEEe …, 2022 - ieeexplore.ieee.org\n",
            "Total-Citations: 493\n",
            "\n",
            "Title: Artificial intelligence in healthcare: past, present and future\n",
            "Authors: F Jiang,Y Jiang,H Zhi,Y Dong,H Li,S Ma\n",
            "Summary: F Jiang, Y Jiang, H Zhi, Y Dong, H Li, S Ma… - Stroke and vascular …, 2017 - svn.bmj.com\n",
            "Total-Citations: 5458\n",
            "\n",
            "Title: Implementing AI in healthcare\n",
            "Authors: E Drysdale,E Dolatabadi,C Chivers,V Liu\n",
            "Summary: E Drysdale, E Dolatabadi, C Chivers, V Liu… - … -SickKids Health AI …, 2019 - erikdrysdale.com\n",
            "Total-Citations: 22\n",
            "==================================\u001b[1m Ai Message \u001b[0m==================================\n",
            "\n",
            "Here are 10 articles about AI in healthcare:\n",
            "\n",
            "1. **Title:** The “inconvenient truth” about AI in healthcare  \n",
            "   **Authors:** T Panch, H Mattie, LA Celi  \n",
            "   **Summary:** T Panch, H Mattie, LA Celi - NPJ digital medicine, 2019 - nature.com  \n",
            "   **Total Citations:** 533\n",
            "\n",
            "2. **Title:** AI in Healthcare  \n",
            "   **Authors:** E Koski, J Murphy  \n",
            "   **Summary:** E Koski, J Murphy - Nurses and midwives in the digital age, 2021 - ebooks.iospress.nl  \n",
            "   **Total Citations:** 108\n",
            "\n",
            "3. **Title:** AI in healthcare: A narrative review  \n",
            "   **Authors:** A Väänänen, K Haataja  \n",
            "   **Summary:** A Väänänen, K Haataja - f1000research.com, 2021  \n",
            "   **Total Citations:** 107\n",
            "\n",
            "4. **Title:** Applications of Artificial Intelligence (AI) in healthcare: A review  \n",
            "   **Authors:** MY Shaheen  \n",
            "   **Summary:** MY Shaheen - ScienceOpen Preprints, 2021 - scienceopen.com  \n",
            "   **Total Citations:** 386\n",
            "\n",
            "5. **Title:** Machine learning and AI for healthcare  \n",
            "   **Authors:** A Panesar  \n",
            "   **Summary:** A Panesar - 2019 - Springer  \n",
            "   **Total Citations:** 411\n",
            "\n",
            "6. **Title:** AI-driven healthcare: Fairness in AI healthcare: A survey  \n",
            "   **Authors:** SV Chinta, Z Wang, A Palikhe, X Zhang  \n",
            "   **Summary:** SV Chinta, Z Wang, A Palikhe, X Zhang - PLOS digital, 2025 - journals.plos.org  \n",
            "   **Total Citations:** 25\n",
            "\n",
            "7. **Title:** AI in healthcare: revolutionizing diagnosis and therapy  \n",
            "   **Authors:** S Zeb, FNU Nizamullah, N Abbasi  \n",
            "   **Summary:** S Zeb, FNU Nizamullah, N Abbasi - International Journal of, 2024 - researchgate.net  \n",
            "   **Total Citations:** 100\n",
            "\n",
            "8. **Title:** Explainable AI for healthcare 5.0: opportunities and challenges  \n",
            "   **Authors:** D Saraswat, P Bhattacharya, A Verma, VK Prasad  \n",
            "   **Summary:** D Saraswat, P Bhattacharya, A Verma, VK Prasad - IEEE, 2022 - ieeexplore.ieee.org  \n",
            "   **Total Citations:** 493\n",
            "\n",
            "9. **Title:** Artificial intelligence in healthcare: past, present and future  \n",
            "   **Authors:** F Jiang, Y Jiang, H Zhi, Y Dong, H Li, S Ma  \n",
            "   **Summary:** F Jiang, Y Jiang, H Zhi, Y Dong, H Li, S Ma - Stroke and vascular, 2017 - svn.bmj.com  \n",
            "   **Total Citations:** 5458\n",
            "\n",
            "10. **Title:** Implementing AI in healthcare  \n",
            "    **Authors:** E Drysdale, E Dolatabadi, C Chivers, V Liu  \n",
            "    **Summary:** E Drysdale, E Dolatabadi, C Chivers, V Liu - SickKids Health AI, 2019 - erikdrysdale.com  \n",
            "    **Total Citations:** 22\n"
          ]
        }
      ]
    },
    {
      "cell_type": "code",
      "source": [
        "#Test the agent\n",
        "config = {\"configurable\": {\"thread_id\": \"def456\"}}\n",
        "for step in agent.stream(\n",
        "    {\"messages\": [HumanMessage(content=\"Find 5 scientific papers related to the impact of AI in healthcare\")]},\n",
        "    config,\n",
        "    stream_mode=\"values\",\n",
        "):\n",
        "    step[\"messages\"][-1].pretty_print()"
      ],
      "metadata": {
        "id": "ZqBLLTmjsT7n",
        "colab": {
          "base_uri": "https://localhost:8080/"
        },
        "outputId": "ad05c354-be56-470a-ee2d-ffba85453db4"
      },
      "execution_count": 35,
      "outputs": [
        {
          "output_type": "stream",
          "name": "stdout",
          "text": [
            "================================\u001b[1m Human Message \u001b[0m=================================\n",
            "\n",
            "Find 5 scientific papers related to the impact of AI in healthcare\n",
            "==================================\u001b[1m Ai Message \u001b[0m==================================\n",
            "Tool Calls:\n",
            "  google_scholar (call_boubgEwPRcQBNj6vyTYGJB7B)\n",
            " Call ID: call_boubgEwPRcQBNj6vyTYGJB7B\n",
            "  Args:\n",
            "    query: impact of AI in healthcare\n",
            "=================================\u001b[1m Tool Message \u001b[0m=================================\n",
            "Name: google_scholar\n",
            "\n",
            "Title: Revolutionizing medical practice: the impact of artificial intelligence (ai) on healthcare\n",
            "Authors: S Javanmard\n",
            "Summary: S Javanmard - OA J Applied Sci Technol, 2024 - academia.edu\n",
            "Total-Citations: 20\n",
            "\n",
            "Title: Beyond implementation: the long-term economic impact of AI in healthcare\n",
            "Authors: AZ Al Meslamani\n",
            "Summary: AZ Al Meslamani - Journal of medical economics, 2023 - Taylor & Francis\n",
            "Total-Citations: 22\n",
            "\n",
            "Title: The economic impact of artificial intelligence in health care: systematic review\n",
            "Authors: J Wolff,J Pauling,A Keck,J Baumbach\n",
            "Summary: J Wolff, J Pauling, A Keck, J Baumbach - Journal of medical Internet …, 2020 - jmir.org\n",
            "Total-Citations: 266\n",
            "\n",
            "Title: The impact of artificial intelligence on healthcare: A revolution in progress\n",
            "Authors: K Gouripur\n",
            "Summary: K Gouripur - The North and West London Journal of General …, 2024 - tnwljgp.org\n",
            "Total-Citations: 18\n",
            "\n",
            "Title: The potential impact of artificial intelligence on healthcare spending\n",
            "Authors: N Sahni,G Stein,O McKinsey,R Zemmel,DM Cutler\n",
            "Summary: N Sahni, G Stein, O McKinsey, R Zemmel, DM Cutler - 2023 - degruyterbrill.com\n",
            "Total-Citations: 122\n",
            "\n",
            "Title: AI in healthcare: revolutionizing diagnosis and therapy\n",
            "Authors: S Zeb,FNU Nizamullah,N Abbasi\n",
            "Summary: S Zeb, FNU Nizamullah, N Abbasi… - International Journal of …, 2024 - researchgate.net\n",
            "Total-Citations: 100\n",
            "\n",
            "Title: Impacts on trust of healthcare AI\n",
            "Authors: E LaRosa,D Danks\n",
            "Summary: E LaRosa, D Danks - … AAAI/ACM Conference on AI, Ethics, and Society, 2018 - dl.acm.org\n",
            "Total-Citations: 133\n",
            "\n",
            "Title: Examining the impact and challenges of artificial intelligence (AI) in healthcare\n",
            "Authors: OT Nwadiokwu\n",
            "Summary: OT Nwadiokwu - Edward Waters University …, 2023 - ewuurj.scholasticahq.com\n",
            "Total-Citations: 5\n",
            "\n",
            "Title: How does artificial intelligence impact digital healthcare initiatives? A review of AI applications in dental healthcare\n",
            "Authors: SS Mahdi,G Battineni,M Khawaja,R Allana\n",
            "Summary: SS Mahdi, G Battineni, M Khawaja, R Allana… - International Journal of …, 2023 - Elsevier\n",
            "Total-Citations: 102\n",
            "\n",
            "Title: Artificial intelligence in healthcare and education\n",
            "Authors: M Dave,N Patel\n",
            "Summary: M Dave, N Patel - British dental journal, 2023 - nature.com\n",
            "Total-Citations: 336\n",
            "==================================\u001b[1m Ai Message \u001b[0m==================================\n",
            "\n",
            "Here are 5 scientific papers related to the impact of AI in healthcare:\n",
            "\n",
            "1. **Title:** Revolutionizing medical practice: the impact of artificial intelligence (AI) on healthcare  \n",
            "   **Authors:** S Javanmard  \n",
            "   **Summary:** S Javanmard - OA J Applied Sci Technol, 2024 - academia.edu  \n",
            "   **Total Citations:** 20\n",
            "\n",
            "2. **Title:** Beyond implementation: the long-term economic impact of AI in healthcare  \n",
            "   **Authors:** AZ Al Meslamani  \n",
            "   **Summary:** AZ Al Meslamani - Journal of medical economics, 2023 - Taylor & Francis  \n",
            "   **Total Citations:** 22\n",
            "\n",
            "3. **Title:** The economic impact of artificial intelligence in health care: systematic review  \n",
            "   **Authors:** J Wolff, J Pauling, A Keck, J Baumbach  \n",
            "   **Summary:** J Wolff, J Pauling, A Keck, J Baumbach - Journal of medical Internet …, 2020 - jmir.org  \n",
            "   **Total Citations:** 266\n",
            "\n",
            "4. **Title:** The impact of artificial intelligence on healthcare: A revolution in progress  \n",
            "   **Authors:** K Gouripur  \n",
            "   **Summary:** K Gouripur - The North and West London Journal of General …, 2024 - tnwljgp.org  \n",
            "   **Total Citations:** 18\n",
            "\n",
            "5. **Title:** The potential impact of artificial intelligence on healthcare spending  \n",
            "   **Authors:** N Sahni, G Stein, O McKinsey, R Zemmel, DM Cutler  \n",
            "   **Summary:** N Sahni, G Stein, O McKinsey, R Zemmel, DM Cutler - 2023 - degruyterbrill.com  \n",
            "   **Total Citations:** 122\n"
          ]
        }
      ]
    },
    {
      "cell_type": "code",
      "source": [
        "#Test the agent with other query\n",
        "config = {\"configurable\": {\"thread_id\": \"ghi5678\"}}\n",
        "for step in agent.stream(\n",
        "    {\"messages\": [HumanMessage(content=\"Indicate 5 articles about AI in ArXiv\")]},\n",
        "    config,\n",
        "    stream_mode=\"values\",\n",
        "):\n",
        "    step[\"messages\"][-1].pretty_print()"
      ],
      "metadata": {
        "id": "vjPDCiFyszKj",
        "colab": {
          "base_uri": "https://localhost:8080/"
        },
        "outputId": "cef4421c-e984-44ed-e241-fdf76a719158"
      },
      "execution_count": 36,
      "outputs": [
        {
          "output_type": "stream",
          "name": "stdout",
          "text": [
            "================================\u001b[1m Human Message \u001b[0m=================================\n",
            "\n",
            "Indicate 5 articles about AI in ArXiv\n",
            "==================================\u001b[1m Ai Message \u001b[0m==================================\n",
            "Tool Calls:\n",
            "  arxiv (call_lZ9pV5DXDLgEotVNS31Who89)\n",
            " Call ID: call_lZ9pV5DXDLgEotVNS31Who89\n",
            "  Args:\n",
            "    query: AI\n",
            "=================================\u001b[1m Tool Message \u001b[0m=================================\n",
            "Name: arxiv\n",
            "\n",
            "Published: 2024-08-26\n",
            "Title: AI Thinking: A framework for rethinking artificial intelligence in practice\n",
            "Authors: Denis Newman-Griffis\n",
            "Summary: Artificial intelligence is transforming the way we work with information\n",
            "across disciplines and practical contexts. A growing range of disciplines are\n",
            "now involved in studying, developing, and assessing the use of AI in practice,\n",
            "but these disciplines often employ conflicting understandings of what AI is and\n",
            "what is involved in its use. New, interdisciplinary approaches are needed to\n",
            "bridge competing conceptualisations of AI in practice and help shape the future\n",
            "of AI use. I propose a novel conceptual framework called AI Thinking, which\n",
            "models key decisions and considerations involved in AI use across disciplinary\n",
            "perspectives. The AI Thinking model addresses five practice-based competencies\n",
            "involved in applying AI in context: motivating AI use in information processes,\n",
            "formulating AI methods, assessing available tools and technologies, selecting\n",
            "appropriate data, and situating AI in the sociotechnical contexts it is used\n",
            "in. A hypothetical case study is provided to illustrate the application of AI\n",
            "Thinking in practice. This article situates AI Thinking in broader\n",
            "cross-disciplinary discourses of AI, including its connections to ongoing\n",
            "discussions around AI literacy and AI-driven innovation. AI Thinking can help\n",
            "to bridge divides between academic disciplines and diverse contexts of AI use,\n",
            "and to reshape the future of AI in practice.\n",
            "\n",
            "Published: 2024-07-26\n",
            "Title: Intersymbolic AI: Interlinking Symbolic AI and Subsymbolic AI\n",
            "Authors: André Platzer\n",
            "Summary: This perspective piece calls for the study of the new field of Intersymbolic\n",
            "AI, by which we mean the combination of symbolic AI, whose building blocks have\n",
            "inherent significance/meaning, with subsymbolic AI, whose entirety creates\n",
            "significance/effect despite the fact that individual building blocks escape\n",
            "meaning. Canonical kinds of symbolic AI are logic, games and planning.\n",
            "Canonical kinds of subsymbolic AI are (un)supervised machine and reinforcement\n",
            "learning. Intersymbolic AI interlinks the worlds of symbolic AI with its\n",
            "compositional symbolic significance and meaning and of subsymbolic AI with its\n",
            "summative significance or effect to enable culminations of insights from both\n",
            "worlds by going between and across symbolic AI insights with subsymbolic AI\n",
            "techniques that are being helped by symbolic AI principles. For example,\n",
            "Intersymbolic AI may start with symbolic AI to understand a dynamic system,\n",
            "continue with subsymbolic AI to learn its control, and end with symbolic AI to\n",
            "safely use the outcome of the learned subsymbolic AI controller in the dynamic\n",
            "system. The way Intersymbolic AI combines both symbolic and subsymbolic AI to\n",
            "increase the effectiveness of AI compared to either kind of AI alone is likened\n",
            "to the way that the combination of both conscious and subconscious thought\n",
            "increases the effectiveness of human thought compared to either kind of thought\n",
            "alone. Some successful contributions to the Intersymbolic AI paradigm are\n",
            "surveyed here but many more are considered possible by advancing Intersymbolic\n",
            "AI.\n",
            "\n",
            "Published: 2022-11-09\n",
            "Title: Supporting AI/ML Security Workers through an Adversarial Techniques, Tools, and Common Knowledge (AI/ML ATT&CK) Framework\n",
            "Authors: Mohamad Fazelnia, Ahmet Okutan, Mehdi Mirakhorli\n",
            "Summary: This paper focuses on supporting AI/ML Security Workers -- professionals\n",
            "involved in the development and deployment of secure AI-enabled software\n",
            "systems. It presents AI/ML Adversarial Techniques, Tools, and Common Knowledge\n",
            "(AI/ML ATT&CK) framework to enable AI/ML Security Workers intuitively to\n",
            "explore offensive and defensive tactics.\n",
            "==================================\u001b[1m Ai Message \u001b[0m==================================\n",
            "\n",
            "Here are 3 articles about AI from ArXiv:\n",
            "\n",
            "1. **Title:** AI Thinking: A framework for rethinking artificial intelligence in practice\n",
            "   - **Authors:** Denis Newman-Griffis\n",
            "   - **Published:** 2024-08-26\n",
            "   - **Summary:** This article proposes a novel conceptual framework called AI Thinking, which models key decisions and considerations involved in AI use across disciplinary perspectives. It addresses five practice-based competencies in applying AI in context and aims to bridge divides between academic disciplines and diverse contexts of AI use.\n",
            "\n",
            "2. **Title:** Intersymbolic AI: Interlinking Symbolic AI and Subsymbolic AI\n",
            "   - **Authors:** André Platzer\n",
            "   - **Published:** 2024-07-26\n",
            "   - **Summary:** This perspective piece discusses Intersymbolic AI, which combines symbolic AI with subsymbolic AI to enable insights from both worlds. It interlinks symbolic AI with compositional significance and subsymbolic AI with summative effect to increase the effectiveness of AI.\n",
            "\n",
            "3. **Title:** Supporting AI/ML Security Workers through an Adversarial Techniques, Tools, and Common Knowledge (AI/ML ATT&CK) Framework\n",
            "   - **Authors:** Mohamad Fazelnia, Ahmet Okutan, Mehdi Mirakhorli\n",
            "   - **Published:** 2022-11-09\n",
            "   - **Summary:** This paper focuses on supporting AI/ML Security Workers by presenting the AI/ML ATT&CK framework, which enables exploration of offensive and defensive tactics in the development and deployment of secure AI-enabled software systems.\n"
          ]
        }
      ]
    },
    {
      "cell_type": "code",
      "source": [
        "#Test the agent with another query\n",
        "config = {\"configurable\": {\"thread_id\": \"lmn345\"}}\n",
        "for step in agent.stream(\n",
        "    {\"messages\": [HumanMessage(content=\"Which is the article 2510.13422 about\")]},\n",
        "    config,\n",
        "    stream_mode=\"values\",\n",
        "):\n",
        "    step[\"messages\"][-1].pretty_print()"
      ],
      "metadata": {
        "id": "nVUgSPM3tO2q",
        "colab": {
          "base_uri": "https://localhost:8080/"
        },
        "outputId": "598f4d1a-9280-4ce3-c27c-887eac1bdf27"
      },
      "execution_count": 37,
      "outputs": [
        {
          "output_type": "stream",
          "name": "stdout",
          "text": [
            "================================\u001b[1m Human Message \u001b[0m=================================\n",
            "\n",
            "Which is the article 2510.13422 about\n",
            "==================================\u001b[1m Ai Message \u001b[0m==================================\n",
            "Tool Calls:\n",
            "  arxiv (call_5baU3vGoUYbVxe58Evi7jWzf)\n",
            " Call ID: call_5baU3vGoUYbVxe58Evi7jWzf\n",
            "  Args:\n",
            "    query: 2510.13422\n",
            "=================================\u001b[1m Tool Message \u001b[0m=================================\n",
            "Name: arxiv\n",
            "\n",
            "Published: 2025-10-15\n",
            "Title: How to Adapt Wireless DJSCC Symbols to Rate Constrained Wired Networks?\n",
            "Authors: Jiangyuan Guo, Wei Chen, Yuxuan Sun, Bo Ai\n",
            "Summary: Deep joint source-channel coding (DJSCC) has emerged as a robust alternative\n",
            "to traditional separate coding for communications through wireless channels.\n",
            "Existing DJSCC approaches focus primarily on point-to-point wireless\n",
            "communication scenarios, while neglecting end-to-end communication efficiency\n",
            "in hybrid wireless-wired networks such as 5G and 6G communication systems.\n",
            "Considerable redundancy in DJSCC symbols against wireless channels becomes\n",
            "inefficient for long-distance wired transmission. Furthermore, DJSCC symbols\n",
            "must adapt to the varying transmission rate of the wired network to avoid\n",
            "congestion. In this paper, we propose a novel framework designed for efficient\n",
            "wired transmission of DJSCC symbols within hybrid wireless-wired networks,\n",
            "namely Rate-Controllable Wired Adaptor (RCWA). RCWA achieves redundancy-aware\n",
            "coding for DJSCC symbols to improve transmission efficiency, which removes\n",
            "considerable redundancy present in DJSCC symbols for wireless channels and\n",
            "encodes only source-relevant information into bits. Moreover, we leverage the\n",
            "Lagrangian multiplier method to achieve controllable and continuous\n",
            "variable-rate coding, which can encode given features into expected rates,\n",
            "thereby minimizing end-to-end distortion while satisfying given constraints.\n",
            "Extensive experiments on diverse datasets demonstrate the superior RD\n",
            "performance and robustness of RCWA compared to existing baselines, validating\n",
            "its potential for wired resource utilization in hybrid transmission scenarios.\n",
            "Specifically, our method can obtain peak signal-to-noise ratio gain of up to\n",
            "0.7dB and 4dB compared to neural network-based methods and digital baselines on\n",
            "CIFAR-10 dataset, respectively.\n",
            "==================================\u001b[1m Ai Message \u001b[0m==================================\n",
            "\n",
            "The article with the identifier 2510.13422 is titled \"How to Adapt Wireless DJSCC Symbols to Rate Constrained Wired Networks?\" The authors of the paper are Jiangyuan Guo, Wei Chen, Yuxuan Sun, and Bo Ai. \n",
            "\n",
            "Summary of the article:\n",
            "- The paper discusses the adaptation of Deep Joint Source-Channel Coding (DJSCC) symbols for efficient transmission in hybrid wireless-wired networks like 5G and 6G systems.\n",
            "- It introduces a novel framework called Rate-Controllable Wired Adaptor (RCWA) to improve the transmission efficiency of DJSCC symbols in wired networks.\n",
            "- RCWA focuses on redundancy-aware coding to enhance transmission efficiency by encoding only source-relevant information into bits.\n",
            "- The Lagrangian multiplier method is utilized for controllable and continuous variable-rate coding to minimize end-to-end distortion while meeting constraints.\n",
            "- Extensive experiments on diverse datasets demonstrate the superior performance of RCWA compared to existing methods, showing potential for wired resource utilization in hybrid transmission scenarios.\n",
            "\n",
            "If you need more details or specific information from the article, feel free to ask!\n"
          ]
        }
      ]
    },
    {
      "cell_type": "code",
      "source": [
        "#Test the agent with another query\n",
        "config = {\"configurable\": {\"thread_id\": \"plm321\"}}\n",
        "for step in agent.stream(\n",
        "    {\"messages\": [HumanMessage(content=\"Interconnect 1 papers related to AI and education from Google Scholar\")]},\n",
        "    config,\n",
        "    stream_mode=\"values\",\n",
        "):\n",
        "    step[\"messages\"][-1].pretty_print()"
      ],
      "metadata": {
        "id": "P3RWHsJNtvyT",
        "colab": {
          "base_uri": "https://localhost:8080/"
        },
        "outputId": "6ffbf9b7-63e9-4f27-f83c-445510f364ea"
      },
      "execution_count": 40,
      "outputs": [
        {
          "output_type": "stream",
          "name": "stdout",
          "text": [
            "================================\u001b[1m Human Message \u001b[0m=================================\n",
            "\n",
            "Interconnect 1 papers related to AI and education from Google Scholar\n",
            "==================================\u001b[1m Ai Message \u001b[0m==================================\n",
            "Tool Calls:\n",
            "  google_scholar (call_BGGGgOZnLy6DRaZv6oe2rr6V)\n",
            " Call ID: call_BGGGgOZnLy6DRaZv6oe2rr6V\n",
            "  Args:\n",
            "    query: AI and education\n",
            "=================================\u001b[1m Tool Message \u001b[0m=================================\n",
            "Name: google_scholar\n",
            "\n",
            "Title: A Review of Artificial Intelligence (AI) in Education from 2010 to 2020\n",
            "Authors: X Zhai,X Chu,CS Chai,MSY Jong,A Istenic\n",
            "Summary: X Zhai, X Chu, CS Chai, MSY Jong, A Istenic… - …, 2021 - Wiley Online Library\n",
            "Total-Citations: 1574\n",
            "\n",
            "Title: State of the art and practice in AI in education\n",
            "Authors: W Holmes,I Tuomi\n",
            "Summary: W Holmes, I Tuomi - European journal of education, 2022 - Wiley Online Library\n",
            "Total-Citations: 1028\n",
            "\n",
            "Title: Education for AI, not AI for Education: The Role of Education and Ethics in National AI Policy Strategies\n",
            "Authors: D Schiff\n",
            "Summary: D Schiff - … Journal of Artificial Intelligence in Education, 2022 - Springer\n",
            "Total-Citations: 443\n",
            "\n",
            "Title: Role of AI in education.\n",
            "Authors: A Harry\n",
            "Summary: A Harry - Interdiciplinary Journal & Hummanity (INJURITY), 2023 - radensa.ru\n",
            "Total-Citations: 443\n",
            "\n",
            "Title: The role of the teacher and AI in education\n",
            "Authors: CV Felix\n",
            "Summary: CV Felix - … the role of technology in humanizing higher education, 2020 - emerald.com\n",
            "Total-Citations: 200\n",
            "\n",
            "Title: AI in Education\n",
            "Authors: B Woolf\n",
            "Summary: B Woolf - 1991 - cs.umass.edu\n",
            "Total-Citations: 159\n",
            "\n",
            "Title: Harnessing the Power of AI to Education\n",
            "Authors: KG Srinivasa,M Kurni,K Saritha\n",
            "Summary: KG Srinivasa, M Kurni, K Saritha - Learning, teaching, and assessment …, 2022 - Springer\n",
            "Total-Citations: 187\n",
            "\n",
            "Title: Applications of AI in Education\n",
            "Authors: J Beck,M Stern,E Haugsjaa\n",
            "Summary: J Beck, M Stern, E Haugsjaa - XRDS: Crossroads, The ACM Magazine …, 1996 - dl.acm.org\n",
            "Total-Citations: 564\n",
            "\n",
            "Title: Exploring the role of AI in education\n",
            "Authors: ND Nguyen\n",
            "Summary: ND Nguyen - London Journal of Social Sciences, 2023 - londonic.uk\n",
            "Total-Citations: 110\n",
            "\n",
            "Title: Intelligence unleashed: An argument for AI in education\n",
            "Authors: R Luckin,W Holmes\n",
            "Summary: R Luckin, W Holmes - 2016 - discovery.ucl.ac.uk\n",
            "Total-Citations: 4431\n",
            "==================================\u001b[1m Ai Message \u001b[0m==================================\n",
            "Tool Calls:\n",
            "  arxiv (call_QJjaV5X9leZGSpJqLuG3subr)\n",
            " Call ID: call_QJjaV5X9leZGSpJqLuG3subr\n",
            "  Args:\n",
            "    query: AI in Education\n",
            "=================================\u001b[1m Tool Message \u001b[0m=================================\n",
            "Name: arxiv\n",
            "\n",
            "Published: 2025-10-08\n",
            "Title: AI in Computational Thinking Education in Higher Education: A Systematic Literature Review\n",
            "Authors: Ebrahim Rahimi, Clara Maathuis\n",
            "Summary: Computational Thinking (CT) is a key skill set for students in higher\n",
            "education to thrive and adapt to an increasingly technology-driven future and\n",
            "workplace. While research on CT education has gained remarkable momentum in K12\n",
            "over the past decade, it has remained under-explored in higher education,\n",
            "leaving higher education teachers with an insufficient overview, knowledge, and\n",
            "support regarding CT education. The proliferation and adoption of artificial\n",
            "intelligence (AI) by educational institutions have demonstrated promising\n",
            "potential to support instructional activities across many disciplines,\n",
            "including CT education. However, a comprehensive overview outlining the various\n",
            "aspects of integrating AI in CT education in higher education is lacking. To\n",
            "mitigate this gap, we conducted this systematic literature review study. The\n",
            "focus of our study is to identify initiatives applying AI in CT education\n",
            "within higher education and to explore various educational aspects of these\n",
            "initiatives, including the benefits and challenges of AI in CT education,\n",
            "instructional strategies employed, CT components covered, and AI techniques and\n",
            "models utilized. This study provides practical and scientific contributions to\n",
            "the CT education community, including an inventory of AI-based initiatives for\n",
            "CT education useful to educators, an overview of various aspects of integrating\n",
            "AI into CT education such as its benefits and challenges (e.g., AI potential to\n",
            "reshape CT education versus its potential to diminish students creativity) and\n",
            "insights into new and expanded perspectives on CT in light of AI (e.g., the\n",
            "decoding approach alongside the coding approach to CT).\n",
            "\n",
            "Published: 2025-03-04\n",
            "Title: Adapting to Educate: Conversational AI's Role in Mathematics Education Across Different Educational Contexts\n",
            "Authors: Alex Liu, Lief Esbenshade, Min Sun, Shawon Sarkar, Jian He, Victor Tian, Zachary Zhang\n",
            "Summary: As educational settings increasingly integrate artificial intelligence (AI),\n",
            "understanding how AI tools identify -- and adapt their responses to -- varied\n",
            "educational contexts becomes paramount. This study examines conversational AI's\n",
            "effectiveness in supporting K-12 mathematics education across various\n",
            "educational contexts. Through qualitative content analysis, we identify\n",
            "educational contexts and key instructional needs present in educator prompts\n",
            "and assess AI's responsiveness. Our findings indicate that educators focus\n",
            "their AI conversations on assessment methods, how to set the cognitive demand\n",
            "level of their instruction, and strategies for making meaningful real-world\n",
            "connections. However, educators' conversations with AI about instructional\n",
            "practices do vary across revealed educational contexts; they shift their\n",
            "emphasis to tailored, rigorous content that addresses their students' unique\n",
            "needs. Educators often seek actionable guidance from AI and reject responses\n",
            "that do not align with their inquiries. While AI can provide accurate,\n",
            "relevant, and useful information when educational contexts or instructional\n",
            "practices are specified in conversation queries, its ability to consistently\n",
            "adapt responses along these evaluation dimensions varies across different\n",
            "educational settings. Significant work remains to realize the\n",
            "response-differentiating potential of conversational AI tools in complex\n",
            "educational use cases. This research contributes insights into developing AI\n",
            "tools that are responsive, proactive, and anticipatory, adapting to evolving\n",
            "educational needs before they are explicitly stated, and provides actionable\n",
            "recommendations for both developers and educators to enhance AI integration in\n",
            "educational practices.\n",
            "\n",
            "Published: 2024-08-28\n",
            "Title: Navigating the Future of Education: Educators' Insights on AI Integration and Challenges in Greece, Hungary, Latvia, Ireland and Armeni\n",
            "==================================\u001b[1m Ai Message \u001b[0m==================================\n",
            "Tool Calls:\n",
            "  google_scholar (call_qqgb2XUjoIyoF0wrHoHTZWry)\n",
            " Call ID: call_qqgb2XUjoIyoF0wrHoHTZWry\n",
            "  Args:\n",
            "    query: A Review of Artificial Intelligence (AI) in Education from 2010 to 2020\n",
            "  arxiv (call_mt47Vq2ORLItNspdw0GETatD)\n",
            " Call ID: call_mt47Vq2ORLItNspdw0GETatD\n",
            "  Args:\n",
            "    query: AI in Computational Thinking Education in Higher Education\n",
            "=================================\u001b[1m Tool Message \u001b[0m=================================\n",
            "Name: arxiv\n",
            "\n",
            "Published: 2025-10-08\n",
            "Title: AI in Computational Thinking Education in Higher Education: A Systematic Literature Review\n",
            "Authors: Ebrahim Rahimi, Clara Maathuis\n",
            "Summary: Computational Thinking (CT) is a key skill set for students in higher\n",
            "education to thrive and adapt to an increasingly technology-driven future and\n",
            "workplace. While research on CT education has gained remarkable momentum in K12\n",
            "over the past decade, it has remained under-explored in higher education,\n",
            "leaving higher education teachers with an insufficient overview, knowledge, and\n",
            "support regarding CT education. The proliferation and adoption of artificial\n",
            "intelligence (AI) by educational institutions have demonstrated promising\n",
            "potential to support instructional activities across many disciplines,\n",
            "including CT education. However, a comprehensive overview outlining the various\n",
            "aspects of integrating AI in CT education in higher education is lacking. To\n",
            "mitigate this gap, we conducted this systematic literature review study. The\n",
            "focus of our study is to identify initiatives applying AI in CT education\n",
            "within higher education and to explore various educational aspects of these\n",
            "initiatives, including the benefits and challenges of AI in CT education,\n",
            "instructional strategies employed, CT components covered, and AI techniques and\n",
            "models utilized. This study provides practical and scientific contributions to\n",
            "the CT education community, including an inventory of AI-based initiatives for\n",
            "CT education useful to educators, an overview of various aspects of integrating\n",
            "AI into CT education such as its benefits and challenges (e.g., AI potential to\n",
            "reshape CT education versus its potential to diminish students creativity) and\n",
            "insights into new and expanded perspectives on CT in light of AI (e.g., the\n",
            "decoding approach alongside the coding approach to CT).\n",
            "\n",
            "Published: 2024-08-28\n",
            "Title: Navigating the Future of Education: Educators' Insights on AI Integration and Challenges in Greece, Hungary, Latvia, Ireland and Armenia\n",
            "Authors: Evangelia Daskalaki, Katerina Psaroudaki, Paraskevi Fragopoulou\n",
            "Summary: Understanding teachers' perspectives on AI in Education (AIEd) is crucial for\n",
            "its effective integration into the educational framework. This paper aims to\n",
            "explore how teachers currently use AI and how it can enhance the educational\n",
            "process. We conducted a cross-national study spanning Greece, Hungary, Latvia,\n",
            "Ireland, and Armenia, surveying 1754 educators through an online questionnaire,\n",
            "addressing three research questions. Our first research question examines\n",
            "educators' understanding of AIEd, their skepticism, and its integration within\n",
            "schools. Most educators report a solid understanding of AI and acknowledge its\n",
            "potential risks. AIEd is primarily used for educator support and engaging\n",
            "students. However, concerns exist about AI's impact on fostering critical\n",
            "thinking and exposing students to biased data. The second research question\n",
            "investigates student engagement with AI tools from educators' perspectives.\n",
            "Teachers indicate that students use AI mainly to manage their academic\n",
            "workload, while outside school, AI tools are primarily used for entertainment.\n",
            "The third research question addresses future implications of AI in education.\n",
            "Educators are optimistic about AI's potential to enhance educational processes,\n",
            "particularly through personalized learning experiences. Nonetheless, they\n",
            "express significant concerns about AI's impact on cultivating critical thinking\n",
            "and ethical issues related to potential misuse. There is a strong emphasis on\n",
            "the need for professional development through training seminars, workshops, and\n",
            "online courses to integrate AI effectively into teaching practices. Overall,\n",
            "the findings highlight a cautious optimism among educators regarding AI in\n",
            "education, alongside a clear demand for targeted professional development to\n",
            "address concerns and enhance skills in using AI tools.\n",
            "\n",
            "Published: 2025-10-20\n",
            "Title: Integrating Generative AI into LMS: Reshaping Learning\n",
            "==================================\u001b[1m Ai Message \u001b[0m==================================\n",
            "\n",
            "### Papers Related to AI and Education\n",
            "\n",
            "1. **Title:** A Review of Artificial Intelligence (AI) in Education from 2010 to 2020  \n",
            "   **Authors:** X Zhai, X Chu, CS Chai, MSY Jong, A Istenic  \n",
            "   **Summary:** This paper provides a comprehensive review of the use of AI in education from 2010 to 2020.  \n",
            "   **Total Citations:** 1574\n",
            "\n",
            "2. **Title:** State of the art and practice in AI in education  \n",
            "   **Authors:** W Holmes, I Tuomi  \n",
            "   **Summary:** This paper discusses the current state and practices of AI in education.  \n",
            "   **Total Citations:** 1028\n",
            "\n",
            "3. **Title:** Education for AI, not AI for Education: The Role of Education and Ethics in National AI Policy Strategies  \n",
            "   **Authors:** D Schiff  \n",
            "   **Summary:** Examines the role of education and ethics in national AI policy strategies.  \n",
            "   **Total Citations:** 443\n",
            "\n",
            "4. **Title:** Role of AI in education  \n",
            "   **Authors:** A Harry  \n",
            "   **Summary:** Explores the role of AI in education.  \n",
            "   **Total Citations:** 443\n",
            "\n",
            "5. **Title:** The role of the teacher and AI in education  \n",
            "   **Authors:** CV Felix  \n",
            "   **Summary:** Discusses the interaction between teachers and AI in education.  \n",
            "   **Total Citations:** 200\n",
            "\n",
            "6. **Title:** AI in Education  \n",
            "   **Authors:** B Woolf  \n",
            "   **Summary:** Provides insights into the use of AI in education.  \n",
            "   **Total Citations:** 159\n",
            "\n",
            "7. **Title:** Harnessing the Power of AI to Education  \n",
            "   **Authors:** KG Srinivasa, M Kurni, K Saritha  \n",
            "   **Summary:** Explores the potential of AI in learning, teaching, and assessment.  \n",
            "   **Total Citations:** 187\n",
            "\n",
            "8. **Title:** Applications of AI in Education  \n",
            "   **Authors:** J Beck, M Stern, E Haugsjaa  \n",
            "   **Summary:** Discusses various applications of AI in the educational sector.  \n",
            "   **Total Citations:** 564\n",
            "\n",
            "9. **Title:** Exploring the role of AI in education  \n",
            "   **Authors:** ND Nguyen  \n",
            "   **Summary:** Explores the impact and implications of AI in education.  \n",
            "   **Total Citations:** 110\n",
            "\n",
            "10. **Title:** Intelligence unleashed: An argument for AI in education  \n",
            "    **Authors:** R Luckin, W Holmes  \n",
            "    **Summary:** Presents arguments supporting the integration of AI in education.  \n",
            "    **Total Citations:** 4431\n",
            "\n",
            "### Additional Papers:\n",
            "\n",
            "1. **Title:** AI in Computational Thinking Education in Higher Education: A Systematic Literature Review  \n",
            "   **Authors:** Ebrahim Rahimi, Clara Maathuis  \n",
            "   **Summary:** Focuses on integrating AI in computational thinking education in higher education.  \n",
            "   **Published:** 2025-10-08\n",
            "\n",
            "2. **Title:** Navigating the Future of Education: Educators' Insights on AI Integration and Challenges in Greece, Hungary, Latvia, Ireland and Armenia  \n",
            "   **Authors:** Evangelia Daskalaki, Katerina Psaroudaki, Paraskevi Fragopoulou  \n",
            "   **Summary:** Explores educators' perspectives on AI integration in education across different countries.  \n",
            "   **Published:** 2024-08-28\n",
            "\n",
            "3. **Title:** Integrating Generative AI into LMS: Reshaping Learning  \n",
            "   **Summary:** Discusses the integration of generative AI into Learning Management Systems.  \n",
            "   **Published:** 2025-10-20\n"
          ]
        }
      ]
    },
    {
      "cell_type": "code",
      "source": [
        "#Test the agent with another query\n",
        "config = {\"configurable\": {\"thread_id\": \"yza610\"}}\n",
        "for step in agent.stream(\n",
        "    {\"messages\": [HumanMessage(content=\"Please find blogs related to AI so I can read them at the moment that I click on the link\")]},\n",
        "    config,\n",
        "    stream_mode=\"values\",\n",
        "):\n",
        "    step[\"messages\"][-1].pretty_print()"
      ],
      "metadata": {
        "id": "bFELFgG1vq3K",
        "colab": {
          "base_uri": "https://localhost:8080/"
        },
        "outputId": "92b5933d-a5af-4d51-d79f-0fa198ece4cf"
      },
      "execution_count": 41,
      "outputs": [
        {
          "output_type": "stream",
          "name": "stdout",
          "text": [
            "================================\u001b[1m Human Message \u001b[0m=================================\n",
            "\n",
            "Please find blogs related to AI so I can read them at the moment that I click on the link\n",
            "==================================\u001b[1m Ai Message \u001b[0m==================================\n",
            "Tool Calls:\n",
            "  tavily_search (call_x4krdOCMuy2UlOPl7utUoYJ1)\n",
            " Call ID: call_x4krdOCMuy2UlOPl7utUoYJ1\n",
            "  Args:\n",
            "    query: AI blogs\n",
            "    search_depth: advanced\n",
            "=================================\u001b[1m Tool Message \u001b[0m=================================\n",
            "Name: tavily_search\n",
            "\n",
            "{\"query\": \"AI blogs\", \"follow_up_questions\": null, \"answer\": null, \"images\": [], \"results\": [{\"url\": \"https://www.digitalocean.com/resources/articles/ai-blogs\", \"title\": \"Top 10 AI Blogs Covering Trends and Breakthroughs - DigitalOcean\", \"content\": \"* AI-focused blogs offer timely insights on the latest trends, research breakthroughs, and practical applications in artificial intelligence and machine learning. Whether you’re seeking in-depth research, industry trends, or hands-on tutorials, AI blogs offer valuable resources to help you navigate the latest developments and applications. It covers technical content for AI research, news, and tutorials around large language models, machine learning, computer vision, reinforcement learning, federated learning, and natural language processing. The Analytics Vidhya blog is dedicated to data science, AI, and machine learning. Primary topics include machine learning algorithms, data visualization techniques, AI agents, generative AI, prompt engineering, large language models, and career and interviewing guidance. **How do I find AI blogs?** **What types of content do AI blogs have?**\", \"score\": 0.98576, \"raw_content\": null}, {\"url\": \"https://onlinedegrees.sandiego.edu/ai-blogs/\", \"title\": \"12 AI Blogs You Should Be Reading, Now\", \"content\": \"This blog covers a wide spectrum of AI research topics, including deep learning, robotics and human-AI interaction. Authored by researchers and developers at Google, the blog reflects the cutting-edge work and expertise of one of the most influential companies in the field of AI. Towards AI serves as a comprehensive platform discussing a wide selection of topics related to artificial intelligence, machine learning and data science. Their expertise in AI and machine learning strategy and research comes through in content that is both informative and applicable to current industry needs. Apple Machine Learning Research offers a unique look at AI integration into consumer technology.\", \"score\": 0.98526, \"raw_content\": null}, {\"url\": \"https://webwave.me/blog/ai-blogs\", \"title\": \"Top 7 AI Blogs You Need To Know in 2025 - WebWave\", \"content\": \"On their AI blog, you'll find many interesting updates on how Google uses artificial intelligence and machine learning. In 2025, some of the top AI blogs to follow include the OpenAI blog, Google AI Blog, Berkeley Artificial Intelligence Research, and others focusing on the latest advancements in artificial intelligence and generative AI. Following AI blogs is a valuable resource for staying informed about the latest AI news, trends, and advancements in artificial intelligence research. The best AI blogs cover a range of topics including AI innovation, generative AI advancements, artificial intelligence trends, analytics, and AI and data science, offering diverse perspectives on the field of AI. Yes, several AI blogs focus on machine learning, including those from Apple Machine Learning and Berkeley Artificial Intelligence Research.\", \"score\": 0.98349, \"raw_content\": null}, {\"url\": \"https://www.certainly.io/blog/top-ai-big-data-publications\", \"title\": \"Top 25 Artificial Intelligence and Big Data News Publications\", \"content\": \"There are many resources for **big data news** to keep you up to date on developments in the tech industry, which is why we’ve created the TOP AI And Big Data Publications list. Analytics Insight is one of the top tech publications reporting on **big data projects**, tech trend developments, and achievements made by AI, Big Data and Analytics companies across the globe. Another of the top tech publications, focusing on AI and big data news is KDnuggets. Datafloq is one of the top tech publications that’s a great source for big data news, blockchain and AI. The organization connects its users to big data news, research, conferences, and educational sources in operations research, management sciences, analytics, engineering, IT, and others.\", \"score\": 0.98136, \"raw_content\": null}, {\"url\": \"https://blog.google/technology/ai/\", \"title\": \"Official Google AI news and updates\", \"content\": \"[Share](https://blog.google/technology/ai/) *   [See all](https://blog.google/products/platforms-devices/) *   [Gemini](https://blog.google/products/gemini/) *   [News](https://blog.google/products/news/) *   [See all](https://blog.google/products/explore-get-answers/) *   [See all](https://blog.google/products/cloud/) *   [Gemini](https://blog.google/products/gemini/) *   [News](https://blog.google/products/news/) *   [AI](https://blog.google/technology/ai/) *   [See all](https://blog.google/technology/) *   [See all](https://blog.google/around-the-globe/) *   [See all](https://blog.google/authors/) *   [AI](https://blog.google/technology/ai/) *   [See all](https://blog.google/products/platforms-devices/) *   [Gemini](https://blog.google/products/gemini/) *   [News](https://blog.google/products/news/) *   [See all](https://blog.google/products/explore-get-answers/) *   [See all](https://blog.google/products/cloud/) *   [AI](https://blog.google/technology/ai/) *   [See all](https://blog.google/technology/) *   [See all](https://blog.google/around-the-globe/) *   [See all](https://blog.google/authors/) *   [](https://blog.google/technology/ai/rss/) ](https://storage.googleapis.com/gweb-uniblog-publish-prod/images/InferenceHero_v3.width-1000.format-webp.webp)](https://blog.google/technology/ai/ask-a-techspert-what-is-inference/) ](https://storage.googleapis.com/gweb-uniblog-publish-prod/images/InferenceHero_v3.width-1000.format-webp.webp)](https://blog.google/technology/ai/ask-a-techspert-what-is-inference/) [AI](https://blog.google/technology/ai/) ![Image 3](https://storage.googleapis.com/gweb-uniblog-publish-prod/images/Drops_003.width-150.format-webp.webp)](https://blog.google/products/gemini/gemini-drop-september-2025/) ![Image 4](https://storage.googleapis.com/gweb-uniblog-publish-prod/images/ShareGems_social.width-150.format-webp.webp)](https://blog.google/products/gemini/sharing-gems/) [### New Gemini app tools to help students in Europe, the Middle East and Africa ![Image 5](https://storage.googleapis.com/gweb-uniblog-publish-prod/images/Students_BTS_Hero_2096x1182.width-150.format-webp.webp)](https://blog.google/products/gemini/new-gemini-app-tools-to-help-students-in-europe-the-middle-east-and-africa/) [### 10 years of genomics research at Google ![Image 6](https://storage.googleapis.com/gweb-uniblog-publish-prod/original_images/Copy_of_Timeline-Thumbnail-1920x1080-CenterLogo.png)](https://blog.google/technology/research/ten-years-google-genomics/) ![Image 8](https://storage.googleapis.com/gweb-uniblog-publish-prod/images/Arceus_LinkedIn_Image.width-150.format-webp.webp)](https://blog.google/technology/research/scaling-quantum-computing-even-faster-with-atlantic-quantum/) *   Oct 18·[Developers](https://blog.google/technology/developers/)[### Leveling up your developer experience in Google AI Studio ![Image 12](https://storage.googleapis.com/gweb-uniblog-publish-prod/images/video_thumbnail.max-300x300.format-webp_3pWehRd.webp)](https://blog.google/technology/developers/ai-studio-updates-more-control/) *   Oct 16·[Research](https://blog.google/technology/research/)[### 10 years of genomics research at Google ![Image 13](https://storage.googleapis.com/gweb-uniblog-publish-prod/images/Copy_of_Timeline-Thumbnail-1920.max-300x300.format-webp.webp)](https://blog.google/technology/research/ten-years-google-genomics/) ![Image 14](https://storage.googleapis.com/gweb-uniblog-publish-prod/images/DeepSomatic_Hero.max-300x300.format-webp.webp)](https://blog.google/technology/research/deepsomatic-an-open-source-ai-model-is-speeding-up-genetic-analysis-for-cancer-research/)\", \"score\": 0.98044, \"raw_content\": null}], \"response_time\": 2.42, \"request_id\": \"85c0329f-7cf7-473a-96c7-4b77d5c3ebf3\"}\n",
            "==================================\u001b[1m Ai Message \u001b[0m==================================\n",
            "\n",
            "I have found some blogs related to AI that you can read:\n",
            "\n",
            "1. [Top 10 AI Blogs Covering Trends and Breakthroughs - DigitalOcean](https://www.digitalocean.com/resources/articles/ai-blogs)\n",
            "2. [12 AI Blogs You Should Be Reading, Now](https://onlinedegrees.sandiego.edu/ai-blogs/)\n",
            "3. [Top 7 AI Blogs You Need To Know in 2025 - WebWave](https://webwave.me/blog/ai-blogs)\n",
            "4. [Top 25 Artificial Intelligence and Big Data News Publications](https://www.certainly.io/blog/top-ai-big-data-publications)\n",
            "5. [Official Google AI news and updates](https://blog.google/technology/ai/)\n",
            "\n",
            "Feel free to click on the links to explore these AI blogs!\n"
          ]
        }
      ]
    }
  ]
}